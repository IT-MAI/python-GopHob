{
 "cells": [
  {
   "cell_type": "markdown",
   "id": "5c148a7c",
   "metadata": {},
   "source": [
    "# Самостоятельное задание #3\n",
    "\n",
    "\n",
    "### Задание 1\n",
    "\n",
    "Допишите функцию, которая принимает массив из 10 чисел и возвращает их сумму."
   ]
  },
  {
   "cell_type": "code",
   "execution_count": 3,
   "id": "660d16d4",
   "metadata": {},
   "outputs": [
    {
     "name": "stdout",
     "output_type": "stream",
     "text": [
      "1\n",
      "1\n",
      "1\n",
      "1\n",
      "1\n",
      "1\n",
      "1\n",
      "1\n",
      "1\n",
      "1\n",
      "10\n"
     ]
    }
   ],
   "source": [
    "nums=[]\n",
    "for i in range(10):\n",
    "    num=int(input())\n",
    "    nums.append(num)\n",
    "print(sum(nums))"
   ]
  },
  {
   "cell_type": "markdown",
   "id": "b36fe13e",
   "metadata": {},
   "source": [
    "1# ### Задание 2\n",
    "\n",
    "Допишите функцию, которая принимает массив чисел и возвращает количество чисел равных нулю."
   ]
  },
  {
   "cell_type": "code",
   "execution_count": null,
   "id": "b9b8638f",
   "metadata": {},
   "outputs": [],
   "source": [
    "nums=[]\n",
    "for i in range(10):\n",
    "    num=int(input())\n",
    "    nums.append(num)\n",
    "print(nums.count(0))"
   ]
  },
  {
   "cell_type": "markdown",
   "id": "7a12248d",
   "metadata": {},
   "source": [
    "\n",
    "### Задание 3\n",
    "\n",
    "Напишите программу, в которой задается  натуральное число n и выводится лестница из n ступенек, i-я ступенька должна состоять из чисел от 1 до i без пробелов."
   ]
  },
  {
   "cell_type": "code",
   "execution_count": null,
   "id": "60843b43",
   "metadata": {},
   "outputs": [],
   "source": [
    "n=int(input())\n",
    "\n"
   ]
  },
  {
   "cell_type": "markdown",
   "id": "3b618a58",
   "metadata": {},
   "source": [
    "\n",
    "### Задание 4\n",
    "\n",
    "Напишите программу, в которой задается натуральное число n и выводится пирамида из n ступенек, i-я ступень должна состоять из чисел от 1 до i и обратно без пробелов."
   ]
  },
  {
   "cell_type": "code",
   "execution_count": null,
   "id": "4f77d38d",
   "metadata": {},
   "outputs": [],
   "source": [
    "# Начните писать код тут"
   ]
  },
  {
   "cell_type": "markdown",
   "id": "64108c32",
   "metadata": {},
   "source": [
    "\n",
    "### Задание 5\n",
    "\n",
    "Напишите программу, в которой задается натуральное число n и выводится ромб из `n*2-1` ступенек, i-я ступень должна состоять из чисел от 1 до i и обратно без пробелов."
   ]
  },
  {
   "cell_type": "code",
   "execution_count": null,
   "id": "60f641e2",
   "metadata": {},
   "outputs": [],
   "source": [
    "# Начните писать код тут"
   ]
  }
 ],
 "metadata": {
  "kernelspec": {
   "display_name": "Python 3 (ipykernel)",
   "language": "python",
   "name": "python3"
  },
  "language_info": {
   "codemirror_mode": {
    "name": "ipython",
    "version": 3
   },
   "file_extension": ".py",
   "mimetype": "text/x-python",
   "name": "python",
   "nbconvert_exporter": "python",
   "pygments_lexer": "ipython3",
   "version": "3.10.0"
  }
 },
 "nbformat": 4,
 "nbformat_minor": 5
}
