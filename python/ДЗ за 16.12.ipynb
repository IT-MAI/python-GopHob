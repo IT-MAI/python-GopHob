{
 "cells": [
  {
   "cell_type": "code",
   "execution_count": 1,
   "id": "98096669",
   "metadata": {},
   "outputs": [
    {
     "name": "stdout",
     "output_type": "stream",
     "text": [
      "6\n"
     ]
    }
   ],
   "source": [
    "#Дан список чисел. Определите, сколько в нем встречается различных чисел.\n",
    "a=[1,2,3,4,2,1,3,5,6,6]\n",
    "b=set(a)\n",
    "print(len(b))"
   ]
  },
  {
   "cell_type": "code",
   "execution_count": 3,
   "id": "0b076d86",
   "metadata": {},
   "outputs": [
    {
     "name": "stdout",
     "output_type": "stream",
     "text": [
      "3\n"
     ]
    }
   ],
   "source": [
    "#Даны два списка чисел. Посчитайте, сколько чисел содержится одновременно как в первом списке, так и во втором.\n",
    "a=[1,2,3,4,2,1,3,5,6,6]\n",
    "b=[0,9,8,74,9,2,4,6]\n",
    "a=set(a)\n",
    "b=set(b)\n",
    "c=set.intersection(a,b)\n",
    "print(len(c))"
   ]
  },
  {
   "cell_type": "code",
   "execution_count": 19,
   "id": "14853204",
   "metadata": {},
   "outputs": [
    {
     "name": "stdout",
     "output_type": "stream",
     "text": [
      "[0, 1, 2, 3, 4, 5, 6, 8, 9, 74]\n"
     ]
    }
   ],
   "source": [
    "#Даны два списка чисел. Найдите все числа, которые входят как в первый, так и во второй список и выведите их в порядке\n",
    "#возрастания.\n",
    "a=[1,2,3,4,2,1,3,5,6,6]\n",
    "b=[0,9,8,74,9,2,4,6]\n",
    "a=set(a)\n",
    "b=set(b)\n",
    "c=set.union(a,b)\n",
    "d=list(c)\n",
    "print(d)"
   ]
  },
  {
   "cell_type": "code",
   "execution_count": 1,
   "id": "cf581e83",
   "metadata": {},
   "outputs": [
    {
     "name": "stdout",
     "output_type": "stream",
     "text": [
      "2 3 5 7 6 5 4 5 3  24 6 34  2\n",
      "NO\n",
      "NO\n",
      "NO\n",
      "NO\n",
      "NO\n",
      "YES\n",
      "NO\n",
      "YES\n",
      "YES\n",
      "NO\n",
      "YES\n",
      "NO\n",
      "YES\n"
     ]
    }
   ],
   "source": [
    "#Во входной строке записана последовательность чисел через пробел. Для каждого числа выведите слово YES (в отдельной строке),\n",
    "#если это число ранее встречалось в последовательности или NO, если не встречалось.\n",
    "numbers = [int(s) for s in input().split()]\n",
    "occur_before = set()\n",
    "for num in numbers:\n",
    "    if num in occur_before:\n",
    "        print('YES')\n",
    "    else:\n",
    "        print('NO')\n",
    "        occur_before.add(num)\n"
   ]
  },
  {
   "cell_type": "code",
   "execution_count": 4,
   "id": "5e2760a3",
   "metadata": {},
   "outputs": [
    {
     "name": "stdout",
     "output_type": "stream",
     "text": [
      "3\n",
      "d\n",
      "sdf gjhkgh dgsh\n",
      "dgbdfh gh\n",
      "6\n"
     ]
    }
   ],
   "source": [
    "#Дан текст: в первой строке записано число строк, далее идут сами строки. \n",
    "#Определите, сколько различных слов содержится в этом тексте.\n",
    "#Словом считается последовательность непробельных символов идущих подряд, \n",
    "#слова разделены одним или большим числом пробелов или символами конца строки.\n",
    "words = set()\n",
    "for _ in range(int(input())):\n",
    "    words.update(input().split())\n",
    "print(len(words))"
   ]
  },
  {
   "cell_type": "code",
   "execution_count": 5,
   "id": "c32c3978",
   "metadata": {},
   "outputs": [
    {
     "name": "stdout",
     "output_type": "stream",
     "text": [
      "dgdhgd hgdgdhg kjhkh gfgfd\n",
      "0 0 0 0 "
     ]
    }
   ],
   "source": [
    "#В единственной строке записан текст. Для каждого слова из данного текста подсчитайте, \n",
    "#сколько раз оно встречалось в этом тексте ранее.\n",
    "#Словом считается последовательность непробельных символов идущих подряд, \n",
    "#слова разделены одним или большим числом пробелов или символами конца строки.\n",
    "counter = {}\n",
    "for word in input().split():\n",
    "    counter[word] = counter.get(word, 0) + 1\n",
    "    print(counter[word] - 1, end=' ')"
   ]
  },
  {
   "cell_type": "code",
   "execution_count": 10,
   "id": "fb9b36c6",
   "metadata": {},
   "outputs": [
    {
     "name": "stdout",
     "output_type": "stream",
     "text": [
      "2\n",
      "d f\n",
      "g h\n",
      "g\n",
      "h\n"
     ]
    }
   ],
   "source": [
    "#Вам дан словарь, состоящий из пар слов. Каждое слово является синонимом к парному ему слову. Все слова в словаре различны.\n",
    "#Для слова из словаря, записанного в последней строке, определите его синоним.\n",
    "n = int(input())\n",
    "\n",
    "d = {}\n",
    "for i in range(n):\n",
    "    first, second = input().split()\n",
    "    d[first] = second\n",
    "    d[second] = first\n",
    "print(d[input()])"
   ]
  },
  {
   "cell_type": "code",
   "execution_count": 1,
   "id": "e1a45211",
   "metadata": {},
   "outputs": [
    {
     "name": "stdout",
     "output_type": "stream",
     "text": [
      "3\n",
      "e r g f s d a f c v e \n",
      "s d f c e s d g r d e w \n",
      "d f w q a  ws d w z \n",
      "d\n"
     ]
    }
   ],
   "source": [
    "#Дан текст: в первой строке задано число строк, далее идут сами строки. \n",
    "#Выведите слово, которое в этом тексте встречается чаще всего. Если таких слов несколько, выведите то, \n",
    "#которое меньше в лексикографическом порядке.\n",
    "counter = {}\n",
    "for i in range(int(input())):\n",
    "    line = input().split()\n",
    "    for word in line:\n",
    "        counter[word] = counter.get(word, 0) + 1\n",
    "         \n",
    "max_count = max(counter.values())\n",
    "most_frequent = [k for k, v in counter.items() if v == max_count]\n",
    "print(min(most_frequent))"
   ]
  },
  {
   "cell_type": "code",
   "execution_count": 11,
   "id": "7ffafd42",
   "metadata": {},
   "outputs": [
    {
     "name": "stdout",
     "output_type": "stream",
     "text": [
      "2\n",
      "q s d f c x v f \n",
      "a cv g d w  as d f a e f q r g z x \n",
      "f\n",
      "d\n",
      "a\n",
      "g\n",
      "q\n",
      "x\n",
      "as\n",
      "c\n",
      "cv\n",
      "e\n",
      "r\n",
      "s\n",
      "v\n",
      "w\n",
      "z\n"
     ]
    }
   ],
   "source": [
    "#Дан текст: в первой строке записано количество строк в тексте, а затем сами строки.\n",
    "#Выведите все слова, встречающиеся в тексте, по одному на каждую строку.\n",
    "#Слова должны быть отсортированы по убыванию их количества появления в тексте, а при одинаковой частоте появления\n",
    "#— в лексикографическом порядке.\n",
    "#Указание. После того, как вы создадите словарь всех слов, вам захочется отсортировать его по частоте встречаемости слова.\n",
    "#Желаемого можно добиться, если создать список, элементами которого будут кортежи из двух элементов: \n",
    "#частота встречаемости слова и само слово. Например, [(2, 'hi'), (1, 'what'), (3, 'is')]. \n",
    "#Тогда стандартная сортировка будет сортировать список кортежей, при этом кортежи сравниваются по первому элементу,\n",
    "#а если они равны — то по второму. Это почти то, что требуется в задаче.\n",
    "from collections import Counter\n",
    " \n",
    "words = []\n",
    "for _ in range(int(input())):\n",
    "    words.extend(input().split())\n",
    " \n",
    "counter = Counter(words)\n",
    "pairs = [(-pair[1], pair[0]) for pair in counter.most_common()]\n",
    "words = [pair[1] for pair in sorted(pairs)]\n",
    "print('\\n'.join(words))"
   ]
  },
  {
   "cell_type": "code",
   "execution_count": 6,
   "id": "4744f8e7",
   "metadata": {},
   "outputs": [
    {
     "name": "stdout",
     "output_type": "stream",
     "text": [
      "2\n",
      "R y t m\n",
      "U o k\n",
      "3\n",
      "y\n",
      "R\n",
      "t\n",
      "R\n",
      "o\n",
      "U\n"
     ]
    }
   ],
   "source": [
    "#Дан список стран и городов каждой страны. Затем даны названия городов. \n",
    "#Для каждого города укажите, в какой стране он находится.\n",
    "motherland = {}\n",
    "for i in range(int(input())):\n",
    "    country, *cities = input().split()\n",
    "    for city in cities:\n",
    "        motherland[city] = country\n",
    "         \n",
    "for i in range(int(input())):\n",
    "    print(motherland[input()])"
   ]
  },
  {
   "cell_type": "code",
   "execution_count": null,
   "id": "8ae9f2c8",
   "metadata": {},
   "outputs": [],
   "source": [
    "#Дана база данных о продажах некоторого интернет-магазина. Каждая строка входного файла представляет собой запись вида \n",
    "#Покупатель товар количество, где Покупатель — имя покупателя (строка без пробелов),\n",
    "#товар — название товара (строка без пробелов), количество — количество приобретенных единиц товара.\n",
    "#Создайте список всех покупателей, а для каждого покупателя подсчитайте количество приобретенных им единиц каждого вида товаров.\n",
    "#Список покупателей, а также список товаров для каждого покупателя нужно выводить в лексикографическом порядке.\n",
    "from collections import defaultdict\n",
    "from sys import stdin\n",
    " \n",
    "clients = defaultdict(lambda: defaultdict(int))\n",
    "for line in stdin.readlines():\n",
    "    client, thing, value = line.split()\n",
    "    clients[client][thing] += int(value)\n",
    "         \n",
    "for client in sorted(clients):\n",
    "    print(client + ':')\n",
    "    for thing in sorted(clients[client]):\n",
    "        print(thing, clients[client][thing])\n"
   ]
  }
 ],
 "metadata": {
  "kernelspec": {
   "display_name": "Python 3 (ipykernel)",
   "language": "python",
   "name": "python3"
  },
  "language_info": {
   "codemirror_mode": {
    "name": "ipython",
    "version": 3
   },
   "file_extension": ".py",
   "mimetype": "text/x-python",
   "name": "python",
   "nbconvert_exporter": "python",
   "pygments_lexer": "ipython3",
   "version": "3.10.0"
  }
 },
 "nbformat": 4,
 "nbformat_minor": 5
}
