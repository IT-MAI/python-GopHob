{
 "cells": [
  {
   "cell_type": "markdown",
   "id": "ac2d07c8",
   "metadata": {},
   "source": [
    "# Самостоятельное задание #4\n",
    "\n",
    "\n",
    "Дана строка: Lambdadambda\n",
    "    \n",
    "**Вывести третий символ этой строки.**"
   ]
  },
  {
   "cell_type": "code",
   "execution_count": 4,
   "id": "51dbf210",
   "metadata": {},
   "outputs": [
    {
     "data": {
      "text/plain": [
       "'m'"
      ]
     },
     "execution_count": 4,
     "metadata": {},
     "output_type": "execute_result"
    }
   ],
   "source": [
    "row = \"Lambdadambda\"\n",
    "row[2]"
   ]
  },
  {
   "cell_type": "markdown",
   "id": "53478588",
   "metadata": {},
   "source": [
    "**Вывести предпоследний символ этой строки.**"
   ]
  },
  {
   "cell_type": "code",
   "execution_count": 6,
   "id": "698d5bda",
   "metadata": {},
   "outputs": [
    {
     "data": {
      "text/plain": [
       "'d'"
      ]
     },
     "execution_count": 6,
     "metadata": {},
     "output_type": "execute_result"
    }
   ],
   "source": [
    "row = \"Lambdadambda\"\n",
    "row[len(row)-2]"
   ]
  },
  {
   "cell_type": "markdown",
   "id": "067204ee",
   "metadata": {},
   "source": [
    "**Вывести первые пять символов этой строки.**"
   ]
  },
  {
   "cell_type": "code",
   "execution_count": 8,
   "id": "8afd0a8e",
   "metadata": {},
   "outputs": [
    {
     "name": "stdout",
     "output_type": "stream",
     "text": [
      "L\n",
      "a\n",
      "m\n",
      "b\n",
      "d\n"
     ]
    }
   ],
   "source": [
    "row = \"Lambdadambda\"\n",
    "for i in range(5):\n",
    "    print(row[i])"
   ]
  },
  {
   "cell_type": "markdown",
   "id": "1980b264",
   "metadata": {},
   "source": [
    "**Вывести строку, кроме последних двух символов.**"
   ]
  },
  {
   "cell_type": "code",
   "execution_count": 7,
   "id": "89ea77e0",
   "metadata": {},
   "outputs": [],
   "source": [
    "row = \"Lambdadambda\"\n"
   ]
  },
  {
   "cell_type": "markdown",
   "id": "805e5a67",
   "metadata": {},
   "source": [
    "**Вывести все символы с четными индексами (считайте, что 0 - четный индекс).**"
   ]
  },
  {
   "cell_type": "code",
   "execution_count": 14,
   "id": "b21fcca7",
   "metadata": {},
   "outputs": [
    {
     "name": "stdout",
     "output_type": "stream",
     "text": [
      "L\n",
      "m\n",
      "d\n",
      "d\n",
      "m\n",
      "d\n"
     ]
    }
   ],
   "source": [
    "row = \"Lambdadambda\"\n",
    "for i in range(0, len(row), 2):\n",
    "    print(row[i])"
   ]
  },
  {
   "cell_type": "markdown",
   "id": "80530d42",
   "metadata": {},
   "source": [
    "**Вывести все символы с нечетными индексами.**"
   ]
  },
  {
   "cell_type": "code",
   "execution_count": 12,
   "id": "9c141b36",
   "metadata": {},
   "outputs": [
    {
     "name": "stdout",
     "output_type": "stream",
     "text": [
      "a\n",
      "b\n",
      "a\n",
      "a\n",
      "b\n",
      "a\n"
     ]
    }
   ],
   "source": [
    "row = \"Lambdadambda\"\n",
    "for i in range(1, len(row), 2):\n",
    "    print(row[i])\n",
    "    "
   ]
  },
  {
   "cell_type": "markdown",
   "id": "4cd0c9ea",
   "metadata": {},
   "source": [
    "**Вывести все символы в обратном порядке.**"
   ]
  },
  {
   "cell_type": "code",
   "execution_count": 21,
   "id": "f249bea0",
   "metadata": {},
   "outputs": [
    {
     "data": {
      "text/plain": [
       "'adbmadadbmaL'"
      ]
     },
     "execution_count": 21,
     "metadata": {},
     "output_type": "execute_result"
    }
   ],
   "source": [
    "row = \"Lambdadambda\"\n",
    "row[::-1]\n"
   ]
  },
  {
   "cell_type": "markdown",
   "id": "919e6e38",
   "metadata": {},
   "source": [
    "**Вывести все символы строки через один в обратном порядке, начиная с последнего.**"
   ]
  },
  {
   "cell_type": "code",
   "execution_count": 22,
   "id": "ea3f949f",
   "metadata": {},
   "outputs": [
    {
     "data": {
      "text/plain": [
       "'abaaba'"
      ]
     },
     "execution_count": 22,
     "metadata": {},
     "output_type": "execute_result"
    }
   ],
   "source": [
    "row = \"Lambdadambda\"\n",
    "row[::-2]"
   ]
  },
  {
   "cell_type": "markdown",
   "id": "91e0a559",
   "metadata": {},
   "source": [
    "**Вывести длину данной строки.**"
   ]
  },
  {
   "cell_type": "code",
   "execution_count": 23,
   "id": "1b428233",
   "metadata": {},
   "outputs": [
    {
     "data": {
      "text/plain": [
       "12"
      ]
     },
     "execution_count": 23,
     "metadata": {},
     "output_type": "execute_result"
    }
   ],
   "source": [
    "row = \"Lambdadambda\"\n",
    "len(row)"
   ]
  },
  {
   "cell_type": "code",
   "execution_count": null,
   "id": "ba34fbbb",
   "metadata": {},
   "outputs": [],
   "source": []
  }
 ],
 "metadata": {
  "kernelspec": {
   "display_name": "Python 3 (ipykernel)",
   "language": "python",
   "name": "python3"
  },
  "language_info": {
   "codemirror_mode": {
    "name": "ipython",
    "version": 3
   },
   "file_extension": ".py",
   "mimetype": "text/x-python",
   "name": "python",
   "nbconvert_exporter": "python",
   "pygments_lexer": "ipython3",
   "version": "3.10.0"
  }
 },
 "nbformat": 4,
 "nbformat_minor": 5
}
