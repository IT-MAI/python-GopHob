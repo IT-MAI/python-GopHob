{
 "cells": [
  {
   "cell_type": "markdown",
   "id": "bff3fff0",
   "metadata": {},
   "source": [
    "# Самостоятельное задание #6\n",
    "\n",
    "\n",
    "### Задание 1\n",
    "\n",
    "\n",
    "Допишите функцию, которая принимает несколько параметров. Первый параметр - словарь, второй параметр - один из ключей данного словаря. Функция должна выводить значение этого ключа."
   ]
  },
  {
   "cell_type": "code",
   "execution_count": 2,
   "id": "4ee4fb2c",
   "metadata": {},
   "outputs": [
    {
     "name": "stdout",
     "output_type": "stream",
     "text": [
      "Введите число, сколько отели бы занести чисел в словарь: 3\n",
      "Введите ключ: к\n",
      "Введите значение: 4\n",
      "Введите ключ: у\n",
      "Введите значение: 7\n",
      "Введите ключ: к\n",
      "Введите значение: 5\n",
      "Введите ключ: у\n",
      "Значение ключа: 7\n"
     ]
    }
   ],
   "source": [
    "x=int(input('Введите число, сколько отели бы занести чисел в словарь: '))\n",
    "a={}\n",
    "for i in range(x):\n",
    "    q=str(input('Введите ключ: '))\n",
    "    w=str(input('Введите значение: '))\n",
    "    a[q]=w\n",
    "b=str(input('Введите ключ: '))\n",
    "print('Значение ключа: '+str(a[b]))"
   ]
  },
  {
   "cell_type": "code",
   "execution_count": null,
   "id": "69fd7f8c",
   "metadata": {},
   "outputs": [],
   "source": []
  }
 ],
 "metadata": {
  "kernelspec": {
   "display_name": "Python 3 (ipykernel)",
   "language": "python",
   "name": "python3"
  },
  "language_info": {
   "codemirror_mode": {
    "name": "ipython",
    "version": 3
   },
   "file_extension": ".py",
   "mimetype": "text/x-python",
   "name": "python",
   "nbconvert_exporter": "python",
   "pygments_lexer": "ipython3",
   "version": "3.10.0"
  }
 },
 "nbformat": 4,
 "nbformat_minor": 5
}
