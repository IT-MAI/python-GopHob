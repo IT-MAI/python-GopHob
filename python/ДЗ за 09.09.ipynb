{
 "cells": [
  {
   "cell_type": "code",
   "execution_count": 1,
   "id": "38f1688c",
   "metadata": {},
   "outputs": [
    {
     "name": "stdout",
     "output_type": "stream",
     "text": [
      "4\n",
      "3\n"
     ]
    }
   ],
   "source": [
    "#поменяйте местами значения двух переменных\n",
    "a=3\n",
    "b=4\n",
    "c=a\n",
    "a=b\n",
    "b=c\n",
    "print(a)\n",
    "print(b)"
   ]
  },
  {
   "cell_type": "code",
   "execution_count": 3,
   "id": "a1657782",
   "metadata": {},
   "outputs": [
    {
     "name": "stdout",
     "output_type": "stream",
     "text": [
      "90\n"
     ]
    }
   ],
   "source": [
    "#дано трехзначное число. Найдите произведение их цифр\n",
    "h=356\n",
    "a=h//100\n",
    "b=h//10-a*10\n",
    "c=h-a*100-b*10\n",
    "p=a*b*c\n",
    "print(p)"
   ]
  },
  {
   "cell_type": "code",
   "execution_count": 4,
   "id": "0b0870a9",
   "metadata": {},
   "outputs": [
    {
     "name": "stdout",
     "output_type": "stream",
     "text": [
      "356120\n"
     ]
    }
   ],
   "source": [
    "#даны два трехзначных числа. Найдите шестизначное число, \n",
    "#образованное из двух данных чисел путем дописывания второго числа к первому справа\n",
    "a=356\n",
    "b=120\n",
    "c=a*1000+b\n",
    "print(c)"
   ]
  },
  {
   "cell_type": "code",
   "execution_count": 5,
   "id": "baaaf7a8",
   "metadata": {},
   "outputs": [
    {
     "name": "stdout",
     "output_type": "stream",
     "text": [
      "306\n"
     ]
    }
   ],
   "source": [
    "#дано трехзначное число. Замените среднюю цифру на ноль\n",
    "h=356\n",
    "a=h//100\n",
    "b=h//10-a*10\n",
    "c=h-a*100-b*10\n",
    "h=a*100+c\n",
    "print(h)"
   ]
  },
  {
   "cell_type": "code",
   "execution_count": 6,
   "id": "0c04a49c",
   "metadata": {},
   "outputs": [
    {
     "name": "stdout",
     "output_type": "stream",
     "text": [
      "653\n"
     ]
    }
   ],
   "source": [
    "#дано трехзначное число. Выведите на экран новое число, полученное из исходного путем перестановки цифр в обратном порядке\n",
    "h=356\n",
    "a=h//100\n",
    "b=h//10-a*10\n",
    "c=h-a*100-b*10\n",
    "h=c*100+b*10+a\n",
    "print(h)\n",
    "\n"
   ]
  },
  {
   "cell_type": "code",
   "execution_count": null,
   "id": "f9c7ce2c",
   "metadata": {},
   "outputs": [],
   "source": []
  }
 ],
 "metadata": {
  "kernelspec": {
   "display_name": "Python 3 (ipykernel)",
   "language": "python",
   "name": "python3"
  },
  "language_info": {
   "codemirror_mode": {
    "name": "ipython",
    "version": 3
   },
   "file_extension": ".py",
   "mimetype": "text/x-python",
   "name": "python",
   "nbconvert_exporter": "python",
   "pygments_lexer": "ipython3",
   "version": "3.10.0"
  }
 },
 "nbformat": 4,
 "nbformat_minor": 5
}
