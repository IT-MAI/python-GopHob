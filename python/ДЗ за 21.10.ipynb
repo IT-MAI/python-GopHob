{
 "cells": [
  {
   "cell_type": "code",
   "execution_count": 2,
   "id": "3cbf5e25",
   "metadata": {},
   "outputs": [
    {
     "name": "stdout",
     "output_type": "stream",
     "text": [
      "2\n",
      "[1, 3, 4, 3, 3, 0]\n"
     ]
    }
   ],
   "source": [
    "#1\n",
    "array = [1,2,2,3,4,3,2,3,2,0]\n",
    "nums=array\n",
    "k=int(input())\n",
    "i=0\n",
    "while i<len(nums):\n",
    "    if k==nums[i]:\n",
    "        nums.pop(i)\n",
    "        i-=1\n",
    "    i+=1   \n",
    "print(nums)"
   ]
  },
  {
   "cell_type": "code",
   "execution_count": 6,
   "id": "c99b819d",
   "metadata": {},
   "outputs": [
    {
     "name": "stdout",
     "output_type": "stream",
     "text": [
      "13\n",
      "7\n"
     ]
    }
   ],
   "source": [
    "#2\n",
    "A=int(input())\n",
    "f0=0\n",
    "f1=1\n",
    "i=2\n",
    "while i<100:\n",
    "    f_next=f1+f0\n",
    "    f0=f1\n",
    "    f1=f_next\n",
    "    if f_next==A:\n",
    "        print(i)\n",
    "        break\n",
    "    i+=1\n",
    "    if i==100:\n",
    "        print(-1)\n",
    "        break"
   ]
  },
  {
   "cell_type": "code",
   "execution_count": 8,
   "id": "49967ac1",
   "metadata": {},
   "outputs": [
    {
     "name": "stdout",
     "output_type": "stream",
     "text": [
      "3\n"
     ]
    }
   ],
   "source": [
    "#3\n",
    "array = [1,2,2,3,4,3,2,3,2,0]\n",
    "nums=array\n",
    "b=0\n",
    "for i in range(len(nums)):\n",
    "    if b<nums[i] and nums[i]<max(nums):\n",
    "        b=nums[i]\n",
    "print(b)"
   ]
  },
  {
   "cell_type": "code",
   "execution_count": 13,
   "id": "72bfa110",
   "metadata": {},
   "outputs": [
    {
     "name": "stdout",
     "output_type": "stream",
     "text": [
      "2\n"
     ]
    }
   ],
   "source": [
    "#4\n",
    "array = [1,2,2,3,4,3,2,2,2,0]\n",
    "nums=array\n",
    "i=0\n",
    "b=0\n",
    "while i<len(nums)-1:\n",
    "    if nums[i]==nums[i+1]:\n",
    "        b+=1\n",
    "        i+=1\n",
    "    i+=1\n",
    "print(b)"
   ]
  },
  {
   "cell_type": "code",
   "execution_count": 15,
   "id": "4683e7dd",
   "metadata": {},
   "outputs": [
    {
     "name": "stdout",
     "output_type": "stream",
     "text": [
      "[3, 5, 7, 4, 2, 7]\n"
     ]
    }
   ],
   "source": [
    "#5\n",
    "array = [1,2,2,3,4,3,2,2,2,0,7]\n",
    "nums=array\n",
    "numb=[]\n",
    "a=0\n",
    "if len(nums)%2==1:\n",
    "    a=nums[len(nums)-1]\n",
    "    nums.pop(len(nums)-1)\n",
    "for i in range(0,len(nums),2):\n",
    "    numb.append(nums[i]+nums[i+1])\n",
    "if a!=0:\n",
    "    numb.append(a)\n",
    "print(numb)\n"
   ]
  },
  {
   "cell_type": "code",
   "execution_count": 2,
   "id": "0453d59e",
   "metadata": {},
   "outputs": [
    {
     "name": "stdout",
     "output_type": "stream",
     "text": [
      "5\n",
      "[1, 2, 2, 3, 4, 2, 2, 2, 0, 7]\n"
     ]
    }
   ],
   "source": [
    "#6\n",
    "array = [1,2,2,3,4,3,2,2,2,0,7]\n",
    "nums=array\n",
    "k=int(input())\n",
    "for i in range(k,len(nums)-1):\n",
    "    a=nums[i]\n",
    "    b=nums[i+1]\n",
    "    nums[i]=b\n",
    "    nums[i+1]=a\n",
    "nums.pop(len(nums)-1)\n",
    "print(nums)"
   ]
  },
  {
   "cell_type": "code",
   "execution_count": 3,
   "id": "d5754f79",
   "metadata": {},
   "outputs": [
    {
     "name": "stdout",
     "output_type": "stream",
     "text": [
      "5\n",
      "100\n",
      "[1, 2, 2, 3, 4, 100, 3, 2, 2, 2, 0, 7]\n"
     ]
    }
   ],
   "source": [
    "#7\n",
    "array = [1,2,2,3,4,3,2,2,2,0,7]\n",
    "nums=array\n",
    "k=int(input())\n",
    "C=int(input())\n",
    "nums.append(0)\n",
    "for i in range(len(nums) - 1, k, -1):\n",
    "    nums[i] = nums[i - 1]\n",
    "nums[k] = C\n",
    "print(nums)\n",
    "    "
   ]
  },
  {
   "cell_type": "code",
   "execution_count": null,
   "id": "e94e993f",
   "metadata": {},
   "outputs": [],
   "source": []
  }
 ],
 "metadata": {
  "kernelspec": {
   "display_name": "Python 3 (ipykernel)",
   "language": "python",
   "name": "python3"
  },
  "language_info": {
   "codemirror_mode": {
    "name": "ipython",
    "version": 3
   },
   "file_extension": ".py",
   "mimetype": "text/x-python",
   "name": "python",
   "nbconvert_exporter": "python",
   "pygments_lexer": "ipython3",
   "version": "3.10.0"
  }
 },
 "nbformat": 4,
 "nbformat_minor": 5
}
