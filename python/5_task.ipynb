{
 "cells": [
  {
   "cell_type": "markdown",
   "id": "93c2e06e",
   "metadata": {},
   "source": [
    "# Самостоятельное задание #5\n",
    "\n",
    "\n",
    "### Задание 1\n",
    "\n",
    "Допишите функцию, которая принимает список, выбирает из него все элементы с четным индексом и возвращает их в виде списка."
   ]
  },
  {
   "cell_type": "code",
   "execution_count": null,
   "id": "3a6121a2",
   "metadata": {},
   "outputs": [],
   "source": []
  },
  {
   "cell_type": "code",
   "execution_count": 2,
   "id": "f6818f73",
   "metadata": {},
   "outputs": [
    {
     "name": "stdout",
     "output_type": "stream",
     "text": [
      "[1, 2, 4, 2, 2]\n"
     ]
    }
   ],
   "source": [
    "array = [1,2,2,3,4,3,2,3,2]\n",
    "nums=array\n",
    "nums_2=[]\n",
    "for i in range(0, len(nums), 2):\n",
    "    nums_2.append(nums[i])\n",
    "print(nums_2)"
   ]
  },
  {
   "cell_type": "markdown",
   "id": "cabb6da5",
   "metadata": {},
   "source": [
    "### Задание 2\n",
    "\n",
    "Допишите функцию, которая принимает список, выбирает из него все элементы, которые больше предыдущего и возвращает их в виде списка.\n"
   ]
  },
  {
   "cell_type": "code",
   "execution_count": 4,
   "id": "a68962ea",
   "metadata": {},
   "outputs": [
    {
     "name": "stdout",
     "output_type": "stream",
     "text": [
      "[1, 2, 3, 4, 3]\n"
     ]
    }
   ],
   "source": [
    "array = [1,2,2,3,4,3,2,3,2]\n",
    "nums=array\n",
    "nums_2=[]\n",
    "x=0\n",
    "for i in range(0, len(nums)):\n",
    "    if x<nums[i]:\n",
    "        nums_2.append(nums[i])\n",
    "    x=nums[i]\n",
    "print(nums_2)"
   ]
  },
  {
   "cell_type": "markdown",
   "id": "a7200b3b",
   "metadata": {},
   "source": [
    "### Задание 3\n",
    "\n",
    "Допишите функцию, которая принимает список, меняет местами наибольший и наименьший элементы и возвращает этот список."
   ]
  },
  {
   "cell_type": "code",
   "execution_count": 20,
   "id": "2a5a5f00",
   "metadata": {},
   "outputs": [
    {
     "name": "stdout",
     "output_type": "stream",
     "text": [
      "[1, 2, 4, 3, 0, 3, 2, 3, 2]\n",
      "4\n",
      "2\n"
     ]
    }
   ],
   "source": [
    "array = [1,2,0,3,4,3,2,3,2]\n",
    "nums=array\n",
    "x=nums[0]\n",
    "y=5000\n",
    "for i in range(len(nums)):\n",
    "    if x<nums[i]:\n",
    "        k=i\n",
    "        x=nums[i]\n",
    "    if y>nums[i]:\n",
    "        g=i\n",
    "        y=nums[i]\n",
    "nums[k]=y\n",
    "nums[g]=x\n",
    "print(nums)\n",
    "print(k)\n",
    "print(g)      "
   ]
  },
  {
   "cell_type": "code",
   "execution_count": null,
   "id": "4e9e3655",
   "metadata": {},
   "outputs": [],
   "source": []
  }
 ],
 "metadata": {
  "kernelspec": {
   "display_name": "Python 3 (ipykernel)",
   "language": "python",
   "name": "python3"
  },
  "language_info": {
   "codemirror_mode": {
    "name": "ipython",
    "version": 3
   },
   "file_extension": ".py",
   "mimetype": "text/x-python",
   "name": "python",
   "nbconvert_exporter": "python",
   "pygments_lexer": "ipython3",
   "version": "3.10.0"
  }
 },
 "nbformat": 4,
 "nbformat_minor": 5
}
