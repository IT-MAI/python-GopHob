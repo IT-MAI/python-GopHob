{
 "cells": [
  {
   "cell_type": "markdown",
   "id": "0f1068dc",
   "metadata": {},
   "source": [
    "# Самостоятельное задание #3\n",
    "\n",
    "\n",
    "### Задание 1\n",
    "\n",
    "Допишите функцию, которая принимает массив из 10 чисел и возвращает их сумму."
   ]
  },
  {
   "cell_type": "code",
   "execution_count": 3,
   "id": "f3525486",
   "metadata": {},
   "outputs": [
    {
     "name": "stdout",
     "output_type": "stream",
     "text": [
      "1\n",
      "1\n",
      "1\n",
      "1\n",
      "1\n",
      "1\n",
      "1\n",
      "1\n",
      "1\n",
      "1\n",
      "10\n"
     ]
    }
   ],
   "source": [
    "nums=[]\n",
    "for i in range(10):\n",
    "    num=int(input())\n",
    "    nums.append(num)\n",
    "print(sum(nums))"
   ]
  },
  {
   "cell_type": "markdown",
   "id": "d3a90723",
   "metadata": {},
   "source": [
    "1# ### Задание 2\n",
    "\n",
    "Допишите функцию, которая принимает массив чисел и возвращает количество чисел равных нулю."
   ]
  },
  {
   "cell_type": "code",
   "execution_count": null,
   "id": "e2bb95d6",
   "metadata": {},
   "outputs": [],
   "source": [
    "nums=[]\n",
    "for i in range(10):\n",
    "    num=int(input())\n",
    "    nums.append(num)\n",
    "print(nums.count(0))"
   ]
  },
  {
   "cell_type": "markdown",
   "id": "93250e2a",
   "metadata": {},
   "source": [
    "\n",
    "### Задание 3\n",
    "\n",
    "Напишите программу, в которой задается  натуральное число n и выводится лестница из n ступенек, i-я ступенька должна состоять из чисел от 1 до i без пробелов."
   ]
  },
  {
   "cell_type": "code",
   "execution_count": 4,
   "id": "e4472b0d",
   "metadata": {},
   "outputs": [
    {
     "name": "stdout",
     "output_type": "stream",
     "text": [
      "7\n",
      "1\n",
      "12\n",
      "123\n",
      "1234\n",
      "12345\n",
      "123456\n",
      "1234567\n"
     ]
    }
   ],
   "source": [
    "n=int(input())\n",
    "i=1\n",
    "x=1\n",
    "while x<=n:\n",
    "    e=[i+1 for i in range(x)]\n",
    "    t=''.join(map(str, e))\n",
    "    print(t)\n",
    "    x+=1\n",
    "\n"
   ]
  },
  {
   "cell_type": "markdown",
   "id": "39a336ce",
   "metadata": {},
   "source": [
    "\n",
    "### Задание 4\n",
    "\n",
    "Напишите программу, в которой задается натуральное число n и выводится пирамида из n ступенек, i-я ступень должна состоять из чисел от 1 до i и обратно без пробелов."
   ]
  },
  {
   "cell_type": "code",
   "execution_count": 3,
   "id": "97e555c6",
   "metadata": {},
   "outputs": [
    {
     "name": "stdout",
     "output_type": "stream",
     "text": [
      "3\n",
      "  11  \n",
      " 2112 \n",
      "321123\n"
     ]
    }
   ],
   "source": [
    "n=int(input())\n",
    "i=1\n",
    "x=1\n",
    "o=n\n",
    "while x<=n:\n",
    "    o-=1\n",
    "    e=[i+1 for i in range(x)]\n",
    "    p=e[::-1]\n",
    "    t=''.join(map(str, e))\n",
    "    k=''.join(map(str, p))\n",
    "    print(o*' '+k+t+o*' ')\n",
    "    x+=1"
   ]
  },
  {
   "cell_type": "markdown",
   "id": "989874bb",
   "metadata": {},
   "source": [
    "\n",
    "### Задание 5\n",
    "\n",
    "Напишите программу, в которой задается натуральное число n и выводится ромб из `n*2-1` ступенек, i-я ступень должна состоять из чисел от 1 до i и обратно без пробелов."
   ]
  },
  {
   "cell_type": "code",
   "execution_count": 7,
   "id": "56481252",
   "metadata": {},
   "outputs": [
    {
     "name": "stdout",
     "output_type": "stream",
     "text": [
      "5\n",
      "    11    \n",
      "   2112   \n",
      "  321123  \n",
      " 43211234 \n",
      "5432112345\n",
      "5432112345\n",
      " 43211234 \n",
      "  321123  \n",
      "   2112   \n",
      "    11    \n"
     ]
    }
   ],
   "source": [
    "n=int(input())\n",
    "i=1\n",
    "x=1\n",
    "o=n\n",
    "a=[]\n",
    "while x<=n:\n",
    "    o-=1\n",
    "    e=[i+1 for i in range(x)]\n",
    "    p=e[::-1]\n",
    "    t=''.join(map(str, e))\n",
    "    k=''.join(map(str, p))\n",
    "    g=k+t\n",
    "    a.append(o*' '+g+o*' ')\n",
    "    print(a[x-1])\n",
    "    x+=1\n",
    "while x>1:\n",
    "    print(a[x-2])\n",
    "    x-=1"
   ]
  },
  {
   "cell_type": "code",
   "execution_count": null,
   "id": "799eae0e",
   "metadata": {},
   "outputs": [],
   "source": []
  }
 ],
 "metadata": {
  "kernelspec": {
   "display_name": "Python 3 (ipykernel)",
   "language": "python",
   "name": "python3"
  },
  "language_info": {
   "codemirror_mode": {
    "name": "ipython",
    "version": 3
   },
   "file_extension": ".py",
   "mimetype": "text/x-python",
   "name": "python",
   "nbconvert_exporter": "python",
   "pygments_lexer": "ipython3",
   "version": "3.10.0"
  }
 },
 "nbformat": 4,
 "nbformat_minor": 5
}
