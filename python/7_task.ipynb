{
 "cells": [
  {
   "cell_type": "markdown",
   "id": "d33bbfc0",
   "metadata": {},
   "source": [
    "# Самостоятельное задание #7\n",
    "\n",
    "\n",
    "### Задание 1\n",
    "\n",
    "Допишите функцию, которая принимает список чисел и, с помощью множеств, определяет количество различных чисел внутри списка."
   ]
  },
  {
   "cell_type": "code",
   "execution_count": 1,
   "id": "543a6cf2",
   "metadata": {},
   "outputs": [
    {
     "name": "stdout",
     "output_type": "stream",
     "text": [
      "Введите число, сколько чисел Вы хотите добавить в список: 4\n",
      "Введите число в список: 1\n",
      "Введите число в список: 1\n",
      "Введите число в список: 4\n",
      "Введите число в список: 6\n",
      "Список с неповторяющимися элементами: {'6', '4', '1'}\n"
     ]
    }
   ],
   "source": [
    "x=int(input('Введите число, сколько чисел Вы хотите добавить в список: '))\n",
    "a=[]\n",
    "for i in range(x):\n",
    "    a.append(input('Введите число в список: '))\n",
    "print('Список с неповторяющимися элементами: '+str(set(a)))"
   ]
  },
  {
   "cell_type": "markdown",
   "id": "d27daaa6",
   "metadata": {},
   "source": [
    "### Задание 2\n",
    "\n",
    "Допишите функцию, которая принимает несколько списков чисел и, с помощью множеств, определяет количество общих чисел из первого и второго списка."
   ]
  },
  {
   "cell_type": "code",
   "execution_count": 2,
   "id": "d7283676",
   "metadata": {},
   "outputs": [
    {
     "name": "stdout",
     "output_type": "stream",
     "text": [
      "Введите число, сколько элементов Вы хотите добавить в список 1: 3\n",
      "Введите элемент в список: 4\n",
      "Введите элемент в список: 5\n",
      "Введите элемент в список: 3\n",
      "Введите число, сколько элементов Вы хотите добавить в список 2: 3\n",
      "Введите элемент в список: 4\n",
      "Введите элемент в список: 6\n",
      "Введите элемент в список: 3\n",
      "Колиество общих элементов из двух списков: 2\n"
     ]
    }
   ],
   "source": [
    "x=int(input('Введите число, сколько элементов Вы хотите добавить в список 1: '))\n",
    "a=[]\n",
    "for i in range(x):\n",
    "    a.append(input('Введите элемент в список: '))\n",
    "b=[]\n",
    "y=int(input('Введите число, сколько элементов Вы хотите добавить в список 2: '))\n",
    "c=0\n",
    "for i in range(y):\n",
    "    b.append(input('Введите элемент в список: '))\n",
    "for i in range(x):\n",
    "    for p in range(y):\n",
    "        if a[i]==b[p]:\n",
    "            c+=1\n",
    "        else:\n",
    "            continue\n",
    "print('Колиество общих элементов из двух списков: '+str(c))"
   ]
  },
  {
   "cell_type": "code",
   "execution_count": null,
   "id": "806127c6",
   "metadata": {},
   "outputs": [],
   "source": []
  }
 ],
 "metadata": {
  "kernelspec": {
   "display_name": "Python 3 (ipykernel)",
   "language": "python",
   "name": "python3"
  },
  "language_info": {
   "codemirror_mode": {
    "name": "ipython",
    "version": 3
   },
   "file_extension": ".py",
   "mimetype": "text/x-python",
   "name": "python",
   "nbconvert_exporter": "python",
   "pygments_lexer": "ipython3",
   "version": "3.10.0"
  }
 },
 "nbformat": 4,
 "nbformat_minor": 5
}
