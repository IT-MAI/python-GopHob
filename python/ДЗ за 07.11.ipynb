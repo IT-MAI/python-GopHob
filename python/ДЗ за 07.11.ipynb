{
 "cells": [
  {
   "cell_type": "code",
   "execution_count": 3,
   "id": "2cc1e66d",
   "metadata": {},
   "outputs": [
    {
     "name": "stdout",
     "output_type": "stream",
     "text": [
      "4\n",
      "15\n",
      "Каждому по 3\n",
      "Осталось 3\n"
     ]
    }
   ],
   "source": [
    "#n школьников делят k яблок поровну, неделящийся остаток остается в корзинке. Сколько яблок достанется каждому школьнику? \n",
    "#Сколько яблок останется в корзинке? Программа получает на вход числа n и k и должна вывести искомое количество яблок(два числа)\n",
    "n=int(input())\n",
    "k=int(input())\n",
    "print('Каждому по',k//n)\n",
    "print('Осталось', k%n)\n"
   ]
  },
  {
   "cell_type": "code",
   "execution_count": 5,
   "id": "86bb11d6",
   "metadata": {},
   "outputs": [
    {
     "name": "stdout",
     "output_type": "stream",
     "text": [
      "1234\n",
      "20 : 34\n"
     ]
    }
   ],
   "source": [
    "#Дано число n. С начала суток прошло n минут. Определите, сколько часов и минут будут показывать электронные часы в этот момент.\n",
    "#Программа должна вывести два числа: количество часов (от 0 до 23) и количество минут (от 0 до 59). Учтите, что число n может \n",
    "#быть больше, чем количество минут в сутках\n",
    "n=int(input())\n",
    "h=n//60\n",
    "m=n%60\n",
    "while h>23:\n",
    "    h-=24\n",
    "print(h,\":\",m)\n",
    "    "
   ]
  },
  {
   "cell_type": "code",
   "execution_count": 9,
   "id": "ea1c0338",
   "metadata": {},
   "outputs": [
    {
     "name": "stdout",
     "output_type": "stream",
     "text": [
      "12\n",
      "YES\n"
     ]
    }
   ],
   "source": [
    "#Дано натуральное число. Требуется определить, является ли год с данным номером високосным.\n",
    "#Если год является високосным, то выведите YES, иначе выведите NO. Напомним, что в соответствии с григорианским календарем,\n",
    "#год является високосным, если его номер кратен 4, но не кратен 100, а также если он кратен 400.\n",
    "y=int(input())\n",
    "l='NO'\n",
    "if y%4==0 and y%100!=0 :\n",
    "    l='YES'\n",
    "if y%400==0:\n",
    "    l='YES'\n",
    "print(l)\n"
   ]
  },
  {
   "cell_type": "code",
   "execution_count": 11,
   "id": "0bf9a088",
   "metadata": {},
   "outputs": [
    {
     "name": "stdout",
     "output_type": "stream",
     "text": [
      "12\n",
      "23\n",
      "4\n",
      "4\n"
     ]
    }
   ],
   "source": [
    "#Даны три целых числа. Выведите значение наименьшего из них.\n",
    "a=int(input())\n",
    "b=int(input())\n",
    "c=int(input())\n",
    "array=[a,b,c]\n",
    "print(min(array))"
   ]
  },
  {
   "cell_type": "code",
   "execution_count": 12,
   "id": "3d344d04",
   "metadata": {},
   "outputs": [
    {
     "name": "stdout",
     "output_type": "stream",
     "text": [
      "1\n",
      "2\n",
      "5\n",
      "7\n",
      "NO\n"
     ]
    }
   ],
   "source": [
    "#Заданы две клетки шахматной доски. Если они покрашены в один цвет, то выведите слово YES, а если в разные цвета — то NO.\n",
    "#Программа получает на вход четыре числа от 1 до 8 каждое, задающие номер столбца и номер строки сначала для первой клетки,\n",
    "#потом для второй клетки.\n",
    "x1=int(input())\n",
    "y1=int(input())\n",
    "x2=int(input())\n",
    "y2=int(input())\n",
    "if (x1+y1)%2==(x2+y2)%2:\n",
    "    print(\"YES\")\n",
    "else:\n",
    "    print('NO')"
   ]
  },
  {
   "cell_type": "code",
   "execution_count": 16,
   "id": "36a447c2",
   "metadata": {},
   "outputs": [
    {
     "name": "stdout",
     "output_type": "stream",
     "text": [
      "1\n",
      "2\n",
      "3\n",
      "2\n",
      "YES\n"
     ]
    }
   ],
   "source": [
    "#Шахматная ладья ходит по горизонтали или вертикали. Даны две различные клетки шахматной доски, определите,\n",
    "#может ли ладья попасть с первой клетки на вторую одним ходом. Программа получает на вход четыре числа от 1 до 8 каждое, \n",
    "#задающие номер столбца и номер строки сначала для первой клетки, потом для второй клетки. Программа должна вывести YES, \n",
    "#если из первой клетки ходом ладьи можно попасть во вторую или NO в противном случае.\n",
    "x1=int(input())\n",
    "y1=int(input())\n",
    "x2=int(input())\n",
    "y2=int(input())\n",
    "if x1==x2 or y1==y2:\n",
    "    print('YES')\n",
    "else:\n",
    "    print('NO')"
   ]
  },
  {
   "cell_type": "code",
   "execution_count": 17,
   "id": "118b7bd3",
   "metadata": {},
   "outputs": [
    {
     "name": "stdout",
     "output_type": "stream",
     "text": [
      "1\n",
      "2\n",
      "0\n",
      "0\n",
      "YES\n"
     ]
    }
   ],
   "source": [
    "#Шахматный конь ходит буквой “Г” — на две клетки по вертикали в любом направлении и на одну клетку по горизонтали, или наоборот.\n",
    "#Даны две различные клетки шахматной доски, определите, может ли конь попасть с первой клетки на вторую одним ходом.\n",
    "x1=int(input())\n",
    "y1=int(input())\n",
    "x2=int(input())\n",
    "y2=int(input())\n",
    "if abs(x1-x2)==1 and abs(y1-y2)==2:\n",
    "    print('YES')\n",
    "else:\n",
    "    print('NO')"
   ]
  },
  {
   "cell_type": "code",
   "execution_count": 18,
   "id": "efcdab39",
   "metadata": {},
   "outputs": [
    {
     "name": "stdout",
     "output_type": "stream",
     "text": [
      "4\n",
      "5\n",
      "2\n",
      "3\n",
      "2\n"
     ]
    }
   ],
   "source": [
    "#Яша плавал в бассейне размером N × M метров и устал. В этот момент он обнаружил, что находится на расстоянии x метров от одного\n",
    "#из длинных бортиков (не обязательно от ближайшего) и y метров от одного из коротких бортиков. Какое минимальное расстояние\n",
    "#должен проплыть Яша, чтобы выбраться из бассейна на бортик? Программа получает на вход числа N, M, x, y.\n",
    "#Программа должна вывести число метров, которое нужно проплыть Яше до бортика.\n",
    "N=int(input())\n",
    "M=int(input())\n",
    "x=int(input())\n",
    "y=int(input())\n",
    "a=[x,N-x]\n",
    "b=[y,M-y]\n",
    "if min(a)<min(b):\n",
    "    print(min(a))\n",
    "else:\n",
    "    print(min(b))"
   ]
  },
  {
   "cell_type": "code",
   "execution_count": null,
   "id": "197fcd88",
   "metadata": {},
   "outputs": [],
   "source": []
  }
 ],
 "metadata": {
  "kernelspec": {
   "display_name": "Python 3 (ipykernel)",
   "language": "python",
   "name": "python3"
  },
  "language_info": {
   "codemirror_mode": {
    "name": "ipython",
    "version": 3
   },
   "file_extension": ".py",
   "mimetype": "text/x-python",
   "name": "python",
   "nbconvert_exporter": "python",
   "pygments_lexer": "ipython3",
   "version": "3.10.0"
  }
 },
 "nbformat": 4,
 "nbformat_minor": 5
}
