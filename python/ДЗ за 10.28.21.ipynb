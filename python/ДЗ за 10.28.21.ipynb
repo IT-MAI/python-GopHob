{
 "cells": [
  {
   "cell_type": "code",
   "execution_count": 13,
   "id": "6ece8ac6",
   "metadata": {},
   "outputs": [
    {
     "name": "stdout",
     "output_type": "stream",
     "text": [
      "10.428571428571429\n"
     ]
    }
   ],
   "source": [
    "#Задание 1\n",
    "def mid(array):\n",
    "    a=array\n",
    "    b=sum(a)/len(a)\n",
    "    print(b)\n",
    "array=[1,2,3,45,6,7,9]\n",
    "mid(array)"
   ]
  },
  {
   "cell_type": "code",
   "execution_count": 38,
   "id": "cac911f6",
   "metadata": {},
   "outputs": [
    {
     "name": "stdout",
     "output_type": "stream",
     "text": [
      "100\n"
     ]
    },
    {
     "data": {
      "text/plain": [
       "20"
      ]
     },
     "execution_count": 38,
     "metadata": {},
     "output_type": "execute_result"
    }
   ],
   "source": [
    "#Задание 2\n",
    "def _2_(n):\n",
    "    b = ''\n",
    "    while n > 0:\n",
    "        b = str(n % 2) + b\n",
    "        n = n // 2\n",
    "    print(b)\n",
    "def _10_(degit):\n",
    "    dlina=len(degit)\n",
    "    chislo_dec=0\n",
    "    for i in range(0, dlina):\n",
    "        chislo_dec=chislo_dec+int(degit[i])*(2**(dlina-i-1))\n",
    "    return chislo_dec\n",
    "n=4\n",
    "_2_(n)\n",
    "a=[1,0,1,0,0]\n",
    "_10_(a)"
   ]
  },
  {
   "cell_type": "code",
   "execution_count": 17,
   "id": "14003e76",
   "metadata": {},
   "outputs": [
    {
     "name": "stdout",
     "output_type": "stream",
     "text": [
      "2.662000000000001\n"
     ]
    }
   ],
   "source": [
    "#Задание 3\n",
    "def bank(a, years):\n",
    "    i=0\n",
    "    while i<years:\n",
    "        a=1.1*a\n",
    "        i+=1\n",
    "    print(a)\n",
    "years=3\n",
    "a=2\n",
    "bank(a,years)"
   ]
  },
  {
   "cell_type": "code",
   "execution_count": 20,
   "id": "cf4ec879",
   "metadata": {},
   "outputs": [
    {
     "name": "stdout",
     "output_type": "stream",
     "text": [
      "3.1622776601683795\n"
     ]
    }
   ],
   "source": [
    "#Задание 4\n",
    "def long(x1,x2,y1,y2):\n",
    "    l=((x2-x1)**2 + (y2-y1)**2)**(0.5)\n",
    "    print(l)\n",
    "x1=2\n",
    "x2=5\n",
    "y1=1\n",
    "y2=2\n",
    "long(x1,x2,y1,y2)"
   ]
  },
  {
   "cell_type": "code",
   "execution_count": 12,
   "id": "9d5e3f2f",
   "metadata": {},
   "outputs": [
    {
     "name": "stdout",
     "output_type": "stream",
     "text": [
      "8\n"
     ]
    }
   ],
   "source": [
    "#Задание 5\n",
    "def power(a, n):\n",
    "    b=a**n\n",
    "    print(b)\n",
    "a=2\n",
    "n=3\n",
    "power(a,n)"
   ]
  },
  {
   "cell_type": "code",
   "execution_count": 31,
   "id": "5f2ca263",
   "metadata": {},
   "outputs": [
    {
     "name": "stdout",
     "output_type": "stream",
     "text": [
      "False\n"
     ]
    }
   ],
   "source": [
    "#Задание 6\n",
    "def is_prime(a):\n",
    "    b=1\n",
    "    i=2\n",
    "    while i<=a:\n",
    "        if a%i==0:\n",
    "            b=i\n",
    "            break\n",
    "        i+=1\n",
    "    if b==a:\n",
    "        print(True)\n",
    "    else:\n",
    "        print(False)\n",
    "a=6\n",
    "is_prime(a)\n"
   ]
  }
 ],
 "metadata": {
  "kernelspec": {
   "display_name": "Python 3 (ipykernel)",
   "language": "python",
   "name": "python3"
  },
  "language_info": {
   "codemirror_mode": {
    "name": "ipython",
    "version": 3
   },
   "file_extension": ".py",
   "mimetype": "text/x-python",
   "name": "python",
   "nbconvert_exporter": "python",
   "pygments_lexer": "ipython3",
   "version": "3.10.0"
  }
 },
 "nbformat": 4,
 "nbformat_minor": 5
}
