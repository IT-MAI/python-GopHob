{
 "cells": [
  {
   "cell_type": "code",
   "execution_count": 13,
   "id": "2231ed04",
   "metadata": {},
   "outputs": [
    {
     "name": "stdout",
     "output_type": "stream",
     "text": [
      "2\n",
      "2\n",
      "2\n",
      "-12.0\n"
     ]
    }
   ],
   "source": [
    "#1\n",
    "a=float(input())\n",
    "b=float(input())\n",
    "c=float(input())\n",
    "D= (b**2)-(4*a*c)\n",
    "print(D)"
   ]
  },
  {
   "cell_type": "code",
   "execution_count": 23,
   "id": "17160d2d",
   "metadata": {},
   "outputs": [
    {
     "name": "stdout",
     "output_type": "stream",
     "text": [
      "N=89\n",
      "1\n",
      "4\n",
      "9\n",
      "16\n",
      "25\n",
      "36\n",
      "49\n",
      "64\n",
      "81\n"
     ]
    }
   ],
   "source": [
    "#2\n",
    "N=int(input(\"N=\"))\n",
    "s=1\n",
    "b=1\n",
    "while b<=N:\n",
    "    s+=1\n",
    "    print(b)\n",
    "    b=s**2\n",
    "    \n",
    "    "
   ]
  },
  {
   "cell_type": "code",
   "execution_count": null,
   "id": "e824090a",
   "metadata": {},
   "outputs": [],
   "source": [
    "#3\n",
    "n=int(input())\n",
    "for i in range(2,n+1):\n",
    "    if n%i==0:\n",
    "        print(i)\n",
    "        break"
   ]
  },
  {
   "cell_type": "code",
   "execution_count": 8,
   "id": "568195a5",
   "metadata": {},
   "outputs": [
    {
     "name": "stdout",
     "output_type": "stream",
     "text": [
      "7\n",
      "13\n"
     ]
    }
   ],
   "source": [
    "#4\n",
    "n=int(input())\n",
    "f0=0\n",
    "f1=1\n",
    "for i in range(n-1):\n",
    "    f_next=f1+f0\n",
    "    f0=f1\n",
    "    f1=f_next\n",
    "print(f_next)\n"
   ]
  },
  {
   "cell_type": "code",
   "execution_count": 27,
   "id": "d6174b90",
   "metadata": {},
   "outputs": [
    {
     "name": "stdout",
     "output_type": "stream",
     "text": [
      "1\n",
      "2\n",
      "4\n",
      "2\n",
      "2\n"
     ]
    }
   ],
   "source": [
    "#5\n",
    "array = [1,2,2,3,4,3,2,3,2]\n",
    "nums=array\n",
    "for i in range(0, len(nums), 2):\n",
    "    print(nums[i])\n",
    "    "
   ]
  },
  {
   "cell_type": "code",
   "execution_count": 28,
   "id": "8728e2f2",
   "metadata": {},
   "outputs": [
    {
     "name": "stdout",
     "output_type": "stream",
     "text": [
      "2\n",
      "2\n",
      "4\n",
      "2\n",
      "2\n"
     ]
    }
   ],
   "source": [
    "#6\n",
    "array = [1,2,2,3,4,3,2,3,2]\n",
    "nums=array\n",
    "nums_2=[]\n",
    "for i in range(len(nums)):\n",
    "    if nums[i]%2==0:\n",
    "        print(nums[i])"
   ]
  },
  {
   "cell_type": "code",
   "execution_count": 30,
   "id": "f6ecfd48",
   "metadata": {},
   "outputs": [
    {
     "name": "stdout",
     "output_type": "stream",
     "text": [
      "4 3\n"
     ]
    }
   ],
   "source": [
    "#7\n",
    "array = [-1,2,-2,3,4,-3,-2,3,-2]\n",
    "nums=array\n",
    "for i in range(1,len(nums)):\n",
    "    if nums[i]*nums[i-1]>0:\n",
    "        print(nums[i],nums[i-1])\n",
    "        break"
   ]
  },
  {
   "cell_type": "code",
   "execution_count": 32,
   "id": "29d77fef",
   "metadata": {},
   "outputs": [
    {
     "name": "stdout",
     "output_type": "stream",
     "text": [
      "4\n"
     ]
    }
   ],
   "source": [
    "#8\n",
    "array = [1,2,2,3,4,3,2,3,2,0]\n",
    "nums=array\n",
    "n=0\n",
    "for i in range(1,len(nums)):\n",
    "    if nums[i]>nums[i-1]:\n",
    "        n+=1\n",
    "print(n)"
   ]
  },
  {
   "cell_type": "code",
   "execution_count": 33,
   "id": "f086ca2a",
   "metadata": {},
   "outputs": [
    {
     "name": "stdout",
     "output_type": "stream",
     "text": [
      "2\n"
     ]
    }
   ],
   "source": [
    "#9\n",
    "array = [1,2,2,3,4,3,2,3,2,0]\n",
    "nums=array\n",
    "n=0\n",
    "for i in range(1,len(nums)-1):\n",
    "    if nums[i]>nums[i-1] and nums[i]>nums[i+1]:\n",
    "        n+=1\n",
    "print(n)\n"
   ]
  },
  {
   "cell_type": "code",
   "execution_count": 36,
   "id": "b20249fb",
   "metadata": {},
   "outputs": [
    {
     "name": "stdout",
     "output_type": "stream",
     "text": [
      "180\n",
      "5\n"
     ]
    }
   ],
   "source": [
    "#10\n",
    "array = [200,190,180,180,170,160,150]\n",
    "nums=array\n",
    "n=0\n",
    "x=int(input())\n",
    "for i in range(len(nums)-1):\n",
    "    if (x<nums[i] and x>nums[i+1]) or x==nums[i]:\n",
    "        n=i+2\n",
    "print(n)\n",
    "        "
   ]
  },
  {
   "cell_type": "code",
   "execution_count": 40,
   "id": "cfd0f31a",
   "metadata": {},
   "outputs": [
    {
     "name": "stdout",
     "output_type": "stream",
     "text": [
      "5\n"
     ]
    }
   ],
   "source": [
    "#11\n",
    "array = [1,2,2,2,2,3,3,4,5,5,5]\n",
    "nums=array\n",
    "n=1\n",
    "for i in range(1,len(nums)):\n",
    "    if nums[i]!=nums[i-1]:\n",
    "        n+=1\n",
    "print(n)"
   ]
  },
  {
   "cell_type": "code",
   "execution_count": 46,
   "id": "2f026650",
   "metadata": {},
   "outputs": [
    {
     "name": "stdout",
     "output_type": "stream",
     "text": [
      "5\n",
      "9\n"
     ]
    }
   ],
   "source": [
    "#12\n",
    "array = [1,2,2,2,2,3,3,4,5,5,5]\n",
    "nums=array\n",
    "n=0\n",
    "for i in range(len(nums)):\n",
    "    if n<nums[i]:\n",
    "        n=nums[i]\n",
    "        b=i+1\n",
    "print(n)\n",
    "print(b)"
   ]
  },
  {
   "cell_type": "code",
   "execution_count": 47,
   "id": "bedceec0",
   "metadata": {},
   "outputs": [
    {
     "name": "stdout",
     "output_type": "stream",
     "text": [
      "3\n"
     ]
    }
   ],
   "source": [
    "#13\n",
    "array = [1,2,2,2,2,3,3,4,5,5,5,0]\n",
    "nums=array\n",
    "b=0\n",
    "n=0\n",
    "for i in range(len(nums)):\n",
    "    if n<nums[i]:\n",
    "        n=nums[i]\n",
    "for i in range(len(nums)):\n",
    "    if n==nums[i]:\n",
    "        b+=1\n",
    "print(b)\n"
   ]
  },
  {
   "cell_type": "code",
   "execution_count": 2,
   "id": "6e9868bd",
   "metadata": {},
   "outputs": [
    {
     "name": "stdout",
     "output_type": "stream",
     "text": [
      "3\n"
     ]
    }
   ],
   "source": [
    "#14\n",
    "array = [1,2,2,3,2,3,3,4,5,5,5,0]\n",
    "nums=array\n",
    "b=1\n",
    "n=0\n",
    "for i in range(len(nums)-1):\n",
    "    if nums[i]==nums[i+1]:\n",
    "        b+=1\n",
    "        if b>n:\n",
    "            n=b\n",
    "    else:\n",
    "        b=1\n",
    "print(n)"
   ]
  },
  {
   "cell_type": "code",
   "execution_count": 1,
   "id": "89526a2d",
   "metadata": {},
   "outputs": [
    {
     "name": "stdout",
     "output_type": "stream",
     "text": [
      "[2, 4, 4, 4, 4, 6, 6, 8, 10, 10, 10, 0]\n"
     ]
    }
   ],
   "source": [
    "#15\n",
    "array1 = [1,2,2,2,2,3,3,4,5,5,5,0]\n",
    "array2 = [1,2,2,2,2,3,3,4,5,5,5,0]\n",
    "nums1=array1\n",
    "nums2=array2\n",
    "nums3=[]\n",
    "for i in range(len(nums1)):\n",
    "    nums3.append(nums1[i]+nums2[i])\n",
    "print(nums3)"
   ]
  },
  {
   "cell_type": "code",
   "execution_count": 9,
   "id": "e1e10406",
   "metadata": {},
   "outputs": [
    {
     "name": "stdout",
     "output_type": "stream",
     "text": [
      "[4, 120, 50]\n"
     ]
    }
   ],
   "source": [
    "#16\n",
    "vec_1=[1,24,5]\n",
    "vec_2=[4,5,10]\n",
    "vec_3=[]\n",
    "for i in range(len(vec_1)):\n",
    "    vec_3.append(vec_1[i]*vec_2[i])\n",
    "print(vec_3)\n",
    "    \n",
    "    \n",
    "\n"
   ]
  }
 ],
 "metadata": {
  "kernelspec": {
   "display_name": "Python 3 (ipykernel)",
   "language": "python",
   "name": "python3"
  },
  "language_info": {
   "codemirror_mode": {
    "name": "ipython",
    "version": 3
   },
   "file_extension": ".py",
   "mimetype": "text/x-python",
   "name": "python",
   "nbconvert_exporter": "python",
   "pygments_lexer": "ipython3",
   "version": "3.10.0"
  }
 },
 "nbformat": 4,
 "nbformat_minor": 5
}
